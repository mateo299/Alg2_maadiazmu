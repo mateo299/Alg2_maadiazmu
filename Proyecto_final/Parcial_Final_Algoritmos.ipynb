{
  "nbformat": 4,
  "nbformat_minor": 0,
  "metadata": {
    "colab": {
      "name": "Parcial Final Algoritmos.ipynb",
      "provenance": [],
      "collapsed_sections": []
    },
    "kernelspec": {
      "name": "python3",
      "display_name": "Python 3"
    },
    "language_info": {
      "name": "python"
    }
  },
  "cells": [
    {
      "cell_type": "markdown",
      "source": [
        "# **Proyecto Final Algoritmos**\n",
        "\n",
        "**Integrantes**\n",
        "\n",
        "*   Mateo Herrera Muñoz\n",
        "*   Mateo Diaz Muñoz\n",
        "*   Mateo Andrés Vivas Acosta\n",
        "*   Andrés Leonardo Leguizamón\n"
      ],
      "metadata": {
        "id": "DZ4R7bGuQDYX"
      }
    },
    {
      "cell_type": "markdown",
      "source": [
        "Empezamos importando la librería *pandas*\n",
        "\n"
      ],
      "metadata": {
        "id": "GxQf-SK1Qtzv"
      }
    },
    {
      "cell_type": "code",
      "execution_count": null,
      "metadata": {
        "id": "rTOlfY0cOusN"
      },
      "outputs": [],
      "source": [
        "import pandas as pd\n",
        "import time"
      ]
    },
    {
      "cell_type": "markdown",
      "source": [
        "Definimos nuestra fuente de información:"
      ],
      "metadata": {
        "id": "Oo-touwoQ74W"
      }
    },
    {
      "cell_type": "code",
      "source": [
        "url_data_time = 'https://co.mejoresrutas.com/tabla-de-distancias-entre-ciudades/co.csv?measure=time&type=road'\n",
        "url_data_distance = 'https://co.mejoresrutas.com/tabla-de-distancias-entre-ciudades/co.csv?measure=metric&type=road'"
      ],
      "metadata": {
        "id": "tOM8RmwpQ8qB"
      },
      "execution_count": null,
      "outputs": []
    },
    {
      "cell_type": "markdown",
      "source": [
        "Definimos un DataFrame que contendrá el archivo CSV ***url_data_time*** y definimos el índice de este DF a la primera columna."
      ],
      "metadata": {
        "id": "hXdomXi6Rv8_"
      }
    },
    {
      "cell_type": "code",
      "source": [
        "df_time = pd.read_csv(url_data_time, index_col=0)"
      ],
      "metadata": {
        "id": "ZPvQCSoyQBsP"
      },
      "execution_count": null,
      "outputs": []
    },
    {
      "cell_type": "markdown",
      "source": [
        "Definimos i como el índice sobre el DataFrame df_time y eliminamos los índices que no nos sirven (los últimos 3)"
      ],
      "metadata": {
        "id": "VyW_zPXsSZph"
      }
    },
    {
      "cell_type": "code",
      "source": [
        "i = df_time.index\n",
        "i_l = list(i)\n",
        "df_time = df_time.drop(labels=[i_l[15], i_l[16], i_l[17]], axis=0)\n",
        "df_time"
      ],
      "metadata": {
        "colab": {
          "base_uri": "https://localhost:8080/",
          "height": 630
        },
        "id": "y_tOOPYgSaMo",
        "outputId": "0a4597af-7474-45e8-e410-b762a6bffb24"
      },
      "execution_count": null,
      "outputs": [
        {
          "output_type": "execute_result",
          "data": {
            "text/html": [
              "\n",
              "  <div id=\"df-9e1b309d-385b-4da3-86a8-31f6e73f9c69\">\n",
              "    <div class=\"colab-df-container\">\n",
              "      <div>\n",
              "<style scoped>\n",
              "    .dataframe tbody tr th:only-of-type {\n",
              "        vertical-align: middle;\n",
              "    }\n",
              "\n",
              "    .dataframe tbody tr th {\n",
              "        vertical-align: top;\n",
              "    }\n",
              "\n",
              "    .dataframe thead th {\n",
              "        text-align: right;\n",
              "    }\n",
              "</style>\n",
              "<table border=\"1\" class=\"dataframe\">\n",
              "  <thead>\n",
              "    <tr style=\"text-align: right;\">\n",
              "      <th></th>\n",
              "      <th>Bogotá</th>\n",
              "      <th>Cali</th>\n",
              "      <th>Medellín</th>\n",
              "      <th>Barranquilla</th>\n",
              "      <th>Cartagena</th>\n",
              "      <th>Cúcuta</th>\n",
              "      <th>Bucaramanga</th>\n",
              "      <th>Pereira</th>\n",
              "      <th>Santa Marta</th>\n",
              "      <th>Ibagué</th>\n",
              "      <th>Pasto</th>\n",
              "      <th>Manizales</th>\n",
              "      <th>Neiva</th>\n",
              "      <th>Villavicencio</th>\n",
              "      <th>Armenia</th>\n",
              "    </tr>\n",
              "    <tr>\n",
              "      <th>Tiempo de conducción</th>\n",
              "      <th></th>\n",
              "      <th></th>\n",
              "      <th></th>\n",
              "      <th></th>\n",
              "      <th></th>\n",
              "      <th></th>\n",
              "      <th></th>\n",
              "      <th></th>\n",
              "      <th></th>\n",
              "      <th></th>\n",
              "      <th></th>\n",
              "      <th></th>\n",
              "      <th></th>\n",
              "      <th></th>\n",
              "      <th></th>\n",
              "    </tr>\n",
              "  </thead>\n",
              "  <tbody>\n",
              "    <tr>\n",
              "      <th>Bogotá</th>\n",
              "      <td>NaN</td>\n",
              "      <td>6:27</td>\n",
              "      <td>5:45</td>\n",
              "      <td>12:04</td>\n",
              "      <td>13:34</td>\n",
              "      <td>7:18</td>\n",
              "      <td>5:05</td>\n",
              "      <td>4:42</td>\n",
              "      <td>11:30</td>\n",
              "      <td>2:39</td>\n",
              "      <td>11:02</td>\n",
              "      <td>4:18</td>\n",
              "      <td>3:49</td>\n",
              "      <td>1:28</td>\n",
              "      <td>4:08</td>\n",
              "    </tr>\n",
              "    <tr>\n",
              "      <th>Cali</th>\n",
              "      <td>6:27</td>\n",
              "      <td>NaN</td>\n",
              "      <td>5:43</td>\n",
              "      <td>14:23</td>\n",
              "      <td>13:54</td>\n",
              "      <td>12:25</td>\n",
              "      <td>10:10</td>\n",
              "      <td>2:39</td>\n",
              "      <td>15:07</td>\n",
              "      <td>3:54</td>\n",
              "      <td>7:06</td>\n",
              "      <td>3:20</td>\n",
              "      <td>6:25</td>\n",
              "      <td>7:41</td>\n",
              "      <td>2:22</td>\n",
              "    </tr>\n",
              "    <tr>\n",
              "      <th>Medellín</th>\n",
              "      <td>5:43</td>\n",
              "      <td>5:45</td>\n",
              "      <td>NaN</td>\n",
              "      <td>8:41</td>\n",
              "      <td>8:12</td>\n",
              "      <td>7:53</td>\n",
              "      <td>5:38</td>\n",
              "      <td>3:09</td>\n",
              "      <td>9:46</td>\n",
              "      <td>5:19</td>\n",
              "      <td>12:38</td>\n",
              "      <td>2:57</td>\n",
              "      <td>7:50</td>\n",
              "      <td>7:11</td>\n",
              "      <td>3:49</td>\n",
              "    </tr>\n",
              "    <tr>\n",
              "      <th>Barranquilla</th>\n",
              "      <td>12:02</td>\n",
              "      <td>14:15</td>\n",
              "      <td>8:32</td>\n",
              "      <td>NaN</td>\n",
              "      <td>1:53</td>\n",
              "      <td>8:51</td>\n",
              "      <td>7:55</td>\n",
              "      <td>11:40</td>\n",
              "      <td>1:15</td>\n",
              "      <td>11:53</td>\n",
              "      <td>21:09</td>\n",
              "      <td>11:28</td>\n",
              "      <td>14:09</td>\n",
              "      <td>13:30</td>\n",
              "      <td>12:20</td>\n",
              "    </tr>\n",
              "    <tr>\n",
              "      <th>Cartagena</th>\n",
              "      <td>13:43</td>\n",
              "      <td>13:53</td>\n",
              "      <td>8:10</td>\n",
              "      <td>1:50</td>\n",
              "      <td>NaN</td>\n",
              "      <td>10:31</td>\n",
              "      <td>9:36</td>\n",
              "      <td>11:17</td>\n",
              "      <td>3:04</td>\n",
              "      <td>13:27</td>\n",
              "      <td>20:46</td>\n",
              "      <td>11:05</td>\n",
              "      <td>15:50</td>\n",
              "      <td>15:11</td>\n",
              "      <td>11:57</td>\n",
              "    </tr>\n",
              "    <tr>\n",
              "      <th>Cúcuta</th>\n",
              "      <td>7:14</td>\n",
              "      <td>12:26</td>\n",
              "      <td>7:43</td>\n",
              "      <td>8:51</td>\n",
              "      <td>10:23</td>\n",
              "      <td>NaN</td>\n",
              "      <td>2:17</td>\n",
              "      <td>9:50</td>\n",
              "      <td>8:17</td>\n",
              "      <td>8:37</td>\n",
              "      <td>18:07</td>\n",
              "      <td>9:08</td>\n",
              "      <td>10:54</td>\n",
              "      <td>8:42</td>\n",
              "      <td>10:11</td>\n",
              "    </tr>\n",
              "    <tr>\n",
              "      <th>Bucaramanga</th>\n",
              "      <td>5:01</td>\n",
              "      <td>10:12</td>\n",
              "      <td>5:30</td>\n",
              "      <td>7:56</td>\n",
              "      <td>9:29</td>\n",
              "      <td>2:18</td>\n",
              "      <td>NaN</td>\n",
              "      <td>7:36</td>\n",
              "      <td>7:22</td>\n",
              "      <td>6:24</td>\n",
              "      <td>15:53</td>\n",
              "      <td>6:54</td>\n",
              "      <td>8:40</td>\n",
              "      <td>6:29</td>\n",
              "      <td>7:57</td>\n",
              "    </tr>\n",
              "    <tr>\n",
              "      <th>Pereira</th>\n",
              "      <td>4:44</td>\n",
              "      <td>2:40</td>\n",
              "      <td>3:09</td>\n",
              "      <td>11:50</td>\n",
              "      <td>11:20</td>\n",
              "      <td>9:52</td>\n",
              "      <td>7:37</td>\n",
              "      <td>NaN</td>\n",
              "      <td>12:33</td>\n",
              "      <td>2:11</td>\n",
              "      <td>9:33</td>\n",
              "      <td>0:47</td>\n",
              "      <td>4:43</td>\n",
              "      <td>5:58</td>\n",
              "      <td>0:42</td>\n",
              "    </tr>\n",
              "    <tr>\n",
              "      <th>Santa Marta</th>\n",
              "      <td>11:28</td>\n",
              "      <td>15:07</td>\n",
              "      <td>9:37</td>\n",
              "      <td>1:14</td>\n",
              "      <td>3:06</td>\n",
              "      <td>8:16</td>\n",
              "      <td>7:21</td>\n",
              "      <td>12:31</td>\n",
              "      <td>NaN</td>\n",
              "      <td>11:18</td>\n",
              "      <td>20:48</td>\n",
              "      <td>11:49</td>\n",
              "      <td>13:35</td>\n",
              "      <td>12:56</td>\n",
              "      <td>12:52</td>\n",
              "    </tr>\n",
              "    <tr>\n",
              "      <th>Ibagué</th>\n",
              "      <td>2:40</td>\n",
              "      <td>3:55</td>\n",
              "      <td>5:18</td>\n",
              "      <td>11:53</td>\n",
              "      <td>13:23</td>\n",
              "      <td>8:37</td>\n",
              "      <td>6:22</td>\n",
              "      <td>2:10</td>\n",
              "      <td>11:19</td>\n",
              "      <td>NaN</td>\n",
              "      <td>9:51</td>\n",
              "      <td>2:55</td>\n",
              "      <td>2:38</td>\n",
              "      <td>3:53</td>\n",
              "      <td>1:36</td>\n",
              "    </tr>\n",
              "    <tr>\n",
              "      <th>Pasto</th>\n",
              "      <td>11:02</td>\n",
              "      <td>7:05</td>\n",
              "      <td>12:37</td>\n",
              "      <td>21:17</td>\n",
              "      <td>20:48</td>\n",
              "      <td>18:06</td>\n",
              "      <td>15:51</td>\n",
              "      <td>9:32</td>\n",
              "      <td>20:47</td>\n",
              "      <td>9:51</td>\n",
              "      <td>NaN</td>\n",
              "      <td>10:14</td>\n",
              "      <td>7:11</td>\n",
              "      <td>12:15</td>\n",
              "      <td>9:16</td>\n",
              "    </tr>\n",
              "    <tr>\n",
              "      <th>Manizales</th>\n",
              "      <td>4:17</td>\n",
              "      <td>3:22</td>\n",
              "      <td>2:57</td>\n",
              "      <td>11:37</td>\n",
              "      <td>11:08</td>\n",
              "      <td>9:09</td>\n",
              "      <td>6:54</td>\n",
              "      <td>0:46</td>\n",
              "      <td>11:50</td>\n",
              "      <td>2:55</td>\n",
              "      <td>10:15</td>\n",
              "      <td>NaN</td>\n",
              "      <td>5:27</td>\n",
              "      <td>5:45</td>\n",
              "      <td>1:26</td>\n",
              "    </tr>\n",
              "    <tr>\n",
              "      <th>Neiva</th>\n",
              "      <td>3:53</td>\n",
              "      <td>6:25</td>\n",
              "      <td>7:53</td>\n",
              "      <td>14:12</td>\n",
              "      <td>15:42</td>\n",
              "      <td>10:56</td>\n",
              "      <td>8:41</td>\n",
              "      <td>4:45</td>\n",
              "      <td>13:38</td>\n",
              "      <td>2:42</td>\n",
              "      <td>7:15</td>\n",
              "      <td>5:30</td>\n",
              "      <td>NaN</td>\n",
              "      <td>5:06</td>\n",
              "      <td>4:11</td>\n",
              "    </tr>\n",
              "    <tr>\n",
              "      <th>Villavicencio</th>\n",
              "      <td>1:27</td>\n",
              "      <td>7:41</td>\n",
              "      <td>7:11</td>\n",
              "      <td>13:29</td>\n",
              "      <td>15:00</td>\n",
              "      <td>8:44</td>\n",
              "      <td>6:30</td>\n",
              "      <td>5:56</td>\n",
              "      <td>12:55</td>\n",
              "      <td>3:53</td>\n",
              "      <td>12:16</td>\n",
              "      <td>5:44</td>\n",
              "      <td>5:03</td>\n",
              "      <td>NaN</td>\n",
              "      <td>5:22</td>\n",
              "    </tr>\n",
              "    <tr>\n",
              "      <th>Armenia</th>\n",
              "      <td>4:10</td>\n",
              "      <td>2:24</td>\n",
              "      <td>3:49</td>\n",
              "      <td>12:30</td>\n",
              "      <td>12:00</td>\n",
              "      <td>10:10</td>\n",
              "      <td>7:55</td>\n",
              "      <td>0:42</td>\n",
              "      <td>12:51</td>\n",
              "      <td>1:36</td>\n",
              "      <td>9:17</td>\n",
              "      <td>1:27</td>\n",
              "      <td>4:08</td>\n",
              "      <td>5:23</td>\n",
              "      <td>NaN</td>\n",
              "    </tr>\n",
              "  </tbody>\n",
              "</table>\n",
              "</div>\n",
              "      <button class=\"colab-df-convert\" onclick=\"convertToInteractive('df-9e1b309d-385b-4da3-86a8-31f6e73f9c69')\"\n",
              "              title=\"Convert this dataframe to an interactive table.\"\n",
              "              style=\"display:none;\">\n",
              "        \n",
              "  <svg xmlns=\"http://www.w3.org/2000/svg\" height=\"24px\"viewBox=\"0 0 24 24\"\n",
              "       width=\"24px\">\n",
              "    <path d=\"M0 0h24v24H0V0z\" fill=\"none\"/>\n",
              "    <path d=\"M18.56 5.44l.94 2.06.94-2.06 2.06-.94-2.06-.94-.94-2.06-.94 2.06-2.06.94zm-11 1L8.5 8.5l.94-2.06 2.06-.94-2.06-.94L8.5 2.5l-.94 2.06-2.06.94zm10 10l.94 2.06.94-2.06 2.06-.94-2.06-.94-.94-2.06-.94 2.06-2.06.94z\"/><path d=\"M17.41 7.96l-1.37-1.37c-.4-.4-.92-.59-1.43-.59-.52 0-1.04.2-1.43.59L10.3 9.45l-7.72 7.72c-.78.78-.78 2.05 0 2.83L4 21.41c.39.39.9.59 1.41.59.51 0 1.02-.2 1.41-.59l7.78-7.78 2.81-2.81c.8-.78.8-2.07 0-2.86zM5.41 20L4 18.59l7.72-7.72 1.47 1.35L5.41 20z\"/>\n",
              "  </svg>\n",
              "      </button>\n",
              "      \n",
              "  <style>\n",
              "    .colab-df-container {\n",
              "      display:flex;\n",
              "      flex-wrap:wrap;\n",
              "      gap: 12px;\n",
              "    }\n",
              "\n",
              "    .colab-df-convert {\n",
              "      background-color: #E8F0FE;\n",
              "      border: none;\n",
              "      border-radius: 50%;\n",
              "      cursor: pointer;\n",
              "      display: none;\n",
              "      fill: #1967D2;\n",
              "      height: 32px;\n",
              "      padding: 0 0 0 0;\n",
              "      width: 32px;\n",
              "    }\n",
              "\n",
              "    .colab-df-convert:hover {\n",
              "      background-color: #E2EBFA;\n",
              "      box-shadow: 0px 1px 2px rgba(60, 64, 67, 0.3), 0px 1px 3px 1px rgba(60, 64, 67, 0.15);\n",
              "      fill: #174EA6;\n",
              "    }\n",
              "\n",
              "    [theme=dark] .colab-df-convert {\n",
              "      background-color: #3B4455;\n",
              "      fill: #D2E3FC;\n",
              "    }\n",
              "\n",
              "    [theme=dark] .colab-df-convert:hover {\n",
              "      background-color: #434B5C;\n",
              "      box-shadow: 0px 1px 3px 1px rgba(0, 0, 0, 0.15);\n",
              "      filter: drop-shadow(0px 1px 2px rgba(0, 0, 0, 0.3));\n",
              "      fill: #FFFFFF;\n",
              "    }\n",
              "  </style>\n",
              "\n",
              "      <script>\n",
              "        const buttonEl =\n",
              "          document.querySelector('#df-9e1b309d-385b-4da3-86a8-31f6e73f9c69 button.colab-df-convert');\n",
              "        buttonEl.style.display =\n",
              "          google.colab.kernel.accessAllowed ? 'block' : 'none';\n",
              "\n",
              "        async function convertToInteractive(key) {\n",
              "          const element = document.querySelector('#df-9e1b309d-385b-4da3-86a8-31f6e73f9c69');\n",
              "          const dataTable =\n",
              "            await google.colab.kernel.invokeFunction('convertToInteractive',\n",
              "                                                     [key], {});\n",
              "          if (!dataTable) return;\n",
              "\n",
              "          const docLinkHtml = 'Like what you see? Visit the ' +\n",
              "            '<a target=\"_blank\" href=https://colab.research.google.com/notebooks/data_table.ipynb>data table notebook</a>'\n",
              "            + ' to learn more about interactive tables.';\n",
              "          element.innerHTML = '';\n",
              "          dataTable['output_type'] = 'display_data';\n",
              "          await google.colab.output.renderOutput(dataTable, element);\n",
              "          const docLink = document.createElement('div');\n",
              "          docLink.innerHTML = docLinkHtml;\n",
              "          element.appendChild(docLink);\n",
              "        }\n",
              "      </script>\n",
              "    </div>\n",
              "  </div>\n",
              "  "
            ],
            "text/plain": [
              "                     Bogotá   Cali Medellín  ...  Neiva Villavicencio Armenia\n",
              "Tiempo de conducción                         ...                             \n",
              "Bogotá                  NaN   6:27     5:45  ...   3:49          1:28    4:08\n",
              "Cali                   6:27    NaN     5:43  ...   6:25          7:41    2:22\n",
              "Medellín               5:43   5:45      NaN  ...   7:50          7:11    3:49\n",
              "Barranquilla          12:02  14:15     8:32  ...  14:09         13:30   12:20\n",
              "Cartagena             13:43  13:53     8:10  ...  15:50         15:11   11:57\n",
              "Cúcuta                 7:14  12:26     7:43  ...  10:54          8:42   10:11\n",
              "Bucaramanga            5:01  10:12     5:30  ...   8:40          6:29    7:57\n",
              "Pereira                4:44   2:40     3:09  ...   4:43          5:58    0:42\n",
              "Santa Marta           11:28  15:07     9:37  ...  13:35         12:56   12:52\n",
              "Ibagué                 2:40   3:55     5:18  ...   2:38          3:53    1:36\n",
              "Pasto                 11:02   7:05    12:37  ...   7:11         12:15    9:16\n",
              "Manizales              4:17   3:22     2:57  ...   5:27          5:45    1:26\n",
              "Neiva                  3:53   6:25     7:53  ...    NaN          5:06    4:11\n",
              "Villavicencio          1:27   7:41     7:11  ...   5:03           NaN    5:22\n",
              "Armenia                4:10   2:24     3:49  ...   4:08          5:23     NaN\n",
              "\n",
              "[15 rows x 15 columns]"
            ]
          },
          "metadata": {},
          "execution_count": 70
        }
      ]
    },
    {
      "cell_type": "markdown",
      "source": [
        "Hacemos lo propio con el archivo ***url_data_distance***"
      ],
      "metadata": {
        "id": "s1XAjnD7Tf0G"
      }
    },
    {
      "cell_type": "code",
      "source": [
        "df_dist = pd.read_csv(url_data_distance, index_col=0)\n",
        "i = df_dist.index\n",
        "i_l = list(i)\n",
        "df_dist = df_dist.drop(labels=[i_l[15], i_l[16], i_l[17]], axis=0)\n",
        "\n",
        "df_dist"
      ],
      "metadata": {
        "colab": {
          "base_uri": "https://localhost:8080/",
          "height": 650
        },
        "id": "1xlW4GFPTgQn",
        "outputId": "3c4f6006-8fd6-4764-d128-6f24185d0a6c"
      },
      "execution_count": null,
      "outputs": [
        {
          "output_type": "execute_result",
          "data": {
            "text/html": [
              "\n",
              "  <div id=\"df-6ada5fd4-ce44-49d7-af7c-2921623573f9\">\n",
              "    <div class=\"colab-df-container\">\n",
              "      <div>\n",
              "<style scoped>\n",
              "    .dataframe tbody tr th:only-of-type {\n",
              "        vertical-align: middle;\n",
              "    }\n",
              "\n",
              "    .dataframe tbody tr th {\n",
              "        vertical-align: top;\n",
              "    }\n",
              "\n",
              "    .dataframe thead th {\n",
              "        text-align: right;\n",
              "    }\n",
              "</style>\n",
              "<table border=\"1\" class=\"dataframe\">\n",
              "  <thead>\n",
              "    <tr style=\"text-align: right;\">\n",
              "      <th></th>\n",
              "      <th>Bogotá</th>\n",
              "      <th>Cali</th>\n",
              "      <th>Medellín</th>\n",
              "      <th>Barranquilla</th>\n",
              "      <th>Cartagena</th>\n",
              "      <th>Cúcuta</th>\n",
              "      <th>Bucaramanga</th>\n",
              "      <th>Pereira</th>\n",
              "      <th>Santa Marta</th>\n",
              "      <th>Ibagué</th>\n",
              "      <th>Pasto</th>\n",
              "      <th>Manizales</th>\n",
              "      <th>Neiva</th>\n",
              "      <th>Villavicencio</th>\n",
              "      <th>Armenia</th>\n",
              "    </tr>\n",
              "    <tr>\n",
              "      <th>Distancia (kilómetros)</th>\n",
              "      <th></th>\n",
              "      <th></th>\n",
              "      <th></th>\n",
              "      <th></th>\n",
              "      <th></th>\n",
              "      <th></th>\n",
              "      <th></th>\n",
              "      <th></th>\n",
              "      <th></th>\n",
              "      <th></th>\n",
              "      <th></th>\n",
              "      <th></th>\n",
              "      <th></th>\n",
              "      <th></th>\n",
              "      <th></th>\n",
              "    </tr>\n",
              "  </thead>\n",
              "  <tbody>\n",
              "    <tr>\n",
              "      <th>Bogotá</th>\n",
              "      <td>NaN</td>\n",
              "      <td>463.0</td>\n",
              "      <td>419.0</td>\n",
              "      <td>1009.0</td>\n",
              "      <td>1052.0</td>\n",
              "      <td>599.0</td>\n",
              "      <td>409.0</td>\n",
              "      <td>322.0</td>\n",
              "      <td>968.0</td>\n",
              "      <td>193.0</td>\n",
              "      <td>764.0</td>\n",
              "      <td>317.0</td>\n",
              "      <td>301.0</td>\n",
              "      <td>110.0</td>\n",
              "      <td>275.0</td>\n",
              "    </tr>\n",
              "    <tr>\n",
              "      <th>Cali</th>\n",
              "      <td>461.0</td>\n",
              "      <td>NaN</td>\n",
              "      <td>440.0</td>\n",
              "      <td>1144.0</td>\n",
              "      <td>1098.0</td>\n",
              "      <td>984.0</td>\n",
              "      <td>785.0</td>\n",
              "      <td>215.0</td>\n",
              "      <td>1231.0</td>\n",
              "      <td>274.0</td>\n",
              "      <td>393.0</td>\n",
              "      <td>268.0</td>\n",
              "      <td>382.0</td>\n",
              "      <td>558.0</td>\n",
              "      <td>187.0</td>\n",
              "    </tr>\n",
              "    <tr>\n",
              "      <th>Medellín</th>\n",
              "      <td>419.0</td>\n",
              "      <td>439.0</td>\n",
              "      <td>NaN</td>\n",
              "      <td>704.0</td>\n",
              "      <td>659.0</td>\n",
              "      <td>592.0</td>\n",
              "      <td>392.0</td>\n",
              "      <td>224.0</td>\n",
              "      <td>795.0</td>\n",
              "      <td>361.0</td>\n",
              "      <td>816.0</td>\n",
              "      <td>209.0</td>\n",
              "      <td>590.0</td>\n",
              "      <td>529.0</td>\n",
              "      <td>280.0</td>\n",
              "    </tr>\n",
              "    <tr>\n",
              "      <th>Barranquilla</th>\n",
              "      <td>1006.0</td>\n",
              "      <td>1139.0</td>\n",
              "      <td>702.0</td>\n",
              "      <td>NaN</td>\n",
              "      <td>122.0</td>\n",
              "      <td>669.0</td>\n",
              "      <td>642.0</td>\n",
              "      <td>924.0</td>\n",
              "      <td>102.0</td>\n",
              "      <td>991.0</td>\n",
              "      <td>1517.0</td>\n",
              "      <td>910.0</td>\n",
              "      <td>1178.0</td>\n",
              "      <td>1117.0</td>\n",
              "      <td>980.0</td>\n",
              "    </tr>\n",
              "    <tr>\n",
              "      <th>Cartagena</th>\n",
              "      <td>1078.0</td>\n",
              "      <td>1094.0</td>\n",
              "      <td>656.0</td>\n",
              "      <td>124.0</td>\n",
              "      <td>NaN</td>\n",
              "      <td>740.0</td>\n",
              "      <td>713.0</td>\n",
              "      <td>879.0</td>\n",
              "      <td>225.0</td>\n",
              "      <td>1015.0</td>\n",
              "      <td>1471.0</td>\n",
              "      <td>864.0</td>\n",
              "      <td>1249.0</td>\n",
              "      <td>1188.0</td>\n",
              "      <td>934.0</td>\n",
              "    </tr>\n",
              "    <tr>\n",
              "      <th>Cúcuta</th>\n",
              "      <td>596.0</td>\n",
              "      <td>982.0</td>\n",
              "      <td>590.0</td>\n",
              "      <td>669.0</td>\n",
              "      <td>741.0</td>\n",
              "      <td>NaN</td>\n",
              "      <td>200.0</td>\n",
              "      <td>767.0</td>\n",
              "      <td>628.0</td>\n",
              "      <td>705.0</td>\n",
              "      <td>1354.0</td>\n",
              "      <td>718.0</td>\n",
              "      <td>891.0</td>\n",
              "      <td>706.0</td>\n",
              "      <td>789.0</td>\n",
              "    </tr>\n",
              "    <tr>\n",
              "      <th>Bucaramanga</th>\n",
              "      <td>407.0</td>\n",
              "      <td>783.0</td>\n",
              "      <td>391.0</td>\n",
              "      <td>643.0</td>\n",
              "      <td>715.0</td>\n",
              "      <td>201.0</td>\n",
              "      <td>NaN</td>\n",
              "      <td>568.0</td>\n",
              "      <td>602.0</td>\n",
              "      <td>506.0</td>\n",
              "      <td>1155.0</td>\n",
              "      <td>519.0</td>\n",
              "      <td>692.0</td>\n",
              "      <td>517.0</td>\n",
              "      <td>590.0</td>\n",
              "    </tr>\n",
              "    <tr>\n",
              "      <th>Pereira</th>\n",
              "      <td>321.0</td>\n",
              "      <td>216.0</td>\n",
              "      <td>226.0</td>\n",
              "      <td>930.0</td>\n",
              "      <td>884.0</td>\n",
              "      <td>770.0</td>\n",
              "      <td>570.0</td>\n",
              "      <td>NaN</td>\n",
              "      <td>1017.0</td>\n",
              "      <td>134.0</td>\n",
              "      <td>593.0</td>\n",
              "      <td>54.0</td>\n",
              "      <td>336.0</td>\n",
              "      <td>418.0</td>\n",
              "      <td>53.0</td>\n",
              "    </tr>\n",
              "    <tr>\n",
              "      <th>Santa Marta</th>\n",
              "      <td>966.0</td>\n",
              "      <td>1229.0</td>\n",
              "      <td>793.0</td>\n",
              "      <td>101.0</td>\n",
              "      <td>223.0</td>\n",
              "      <td>629.0</td>\n",
              "      <td>602.0</td>\n",
              "      <td>1014.0</td>\n",
              "      <td>NaN</td>\n",
              "      <td>951.0</td>\n",
              "      <td>1600.0</td>\n",
              "      <td>964.0</td>\n",
              "      <td>1138.0</td>\n",
              "      <td>1077.0</td>\n",
              "      <td>1035.0</td>\n",
              "    </tr>\n",
              "    <tr>\n",
              "      <th>Ibagué</th>\n",
              "      <td>192.0</td>\n",
              "      <td>275.0</td>\n",
              "      <td>362.0</td>\n",
              "      <td>992.0</td>\n",
              "      <td>1035.0</td>\n",
              "      <td>705.0</td>\n",
              "      <td>505.0</td>\n",
              "      <td>133.0</td>\n",
              "      <td>951.0</td>\n",
              "      <td>NaN</td>\n",
              "      <td>669.0</td>\n",
              "      <td>190.0</td>\n",
              "      <td>206.0</td>\n",
              "      <td>288.0</td>\n",
              "      <td>86.0</td>\n",
              "    </tr>\n",
              "    <tr>\n",
              "      <th>Pasto</th>\n",
              "      <td>762.0</td>\n",
              "      <td>391.0</td>\n",
              "      <td>817.0</td>\n",
              "      <td>1520.0</td>\n",
              "      <td>1475.0</td>\n",
              "      <td>1353.0</td>\n",
              "      <td>1154.0</td>\n",
              "      <td>592.0</td>\n",
              "      <td>1600.0</td>\n",
              "      <td>670.0</td>\n",
              "      <td>NaN</td>\n",
              "      <td>644.0</td>\n",
              "      <td>464.0</td>\n",
              "      <td>859.0</td>\n",
              "      <td>564.0</td>\n",
              "    </tr>\n",
              "    <tr>\n",
              "      <th>Manizales</th>\n",
              "      <td>314.0</td>\n",
              "      <td>267.0</td>\n",
              "      <td>209.0</td>\n",
              "      <td>912.0</td>\n",
              "      <td>867.0</td>\n",
              "      <td>718.0</td>\n",
              "      <td>518.0</td>\n",
              "      <td>52.0</td>\n",
              "      <td>964.0</td>\n",
              "      <td>188.0</td>\n",
              "      <td>644.0</td>\n",
              "      <td>NaN</td>\n",
              "      <td>391.0</td>\n",
              "      <td>424.0</td>\n",
              "      <td>108.0</td>\n",
              "    </tr>\n",
              "    <tr>\n",
              "      <th>Neiva</th>\n",
              "      <td>300.0</td>\n",
              "      <td>381.0</td>\n",
              "      <td>565.0</td>\n",
              "      <td>1179.0</td>\n",
              "      <td>1221.0</td>\n",
              "      <td>891.0</td>\n",
              "      <td>691.0</td>\n",
              "      <td>336.0</td>\n",
              "      <td>1138.0</td>\n",
              "      <td>207.0</td>\n",
              "      <td>465.0</td>\n",
              "      <td>393.0</td>\n",
              "      <td>NaN</td>\n",
              "      <td>397.0</td>\n",
              "      <td>289.0</td>\n",
              "    </tr>\n",
              "    <tr>\n",
              "      <th>Villavicencio</th>\n",
              "      <td>108.0</td>\n",
              "      <td>559.0</td>\n",
              "      <td>527.0</td>\n",
              "      <td>1117.0</td>\n",
              "      <td>1160.0</td>\n",
              "      <td>707.0</td>\n",
              "      <td>517.0</td>\n",
              "      <td>418.0</td>\n",
              "      <td>1076.0</td>\n",
              "      <td>289.0</td>\n",
              "      <td>860.0</td>\n",
              "      <td>424.0</td>\n",
              "      <td>397.0</td>\n",
              "      <td>NaN</td>\n",
              "      <td>370.0</td>\n",
              "    </tr>\n",
              "    <tr>\n",
              "      <th>Armenia</th>\n",
              "      <td>274.0</td>\n",
              "      <td>188.0</td>\n",
              "      <td>282.0</td>\n",
              "      <td>985.0</td>\n",
              "      <td>940.0</td>\n",
              "      <td>789.0</td>\n",
              "      <td>590.0</td>\n",
              "      <td>53.0</td>\n",
              "      <td>1036.0</td>\n",
              "      <td>87.0</td>\n",
              "      <td>565.0</td>\n",
              "      <td>110.0</td>\n",
              "      <td>289.0</td>\n",
              "      <td>371.0</td>\n",
              "      <td>NaN</td>\n",
              "    </tr>\n",
              "  </tbody>\n",
              "</table>\n",
              "</div>\n",
              "      <button class=\"colab-df-convert\" onclick=\"convertToInteractive('df-6ada5fd4-ce44-49d7-af7c-2921623573f9')\"\n",
              "              title=\"Convert this dataframe to an interactive table.\"\n",
              "              style=\"display:none;\">\n",
              "        \n",
              "  <svg xmlns=\"http://www.w3.org/2000/svg\" height=\"24px\"viewBox=\"0 0 24 24\"\n",
              "       width=\"24px\">\n",
              "    <path d=\"M0 0h24v24H0V0z\" fill=\"none\"/>\n",
              "    <path d=\"M18.56 5.44l.94 2.06.94-2.06 2.06-.94-2.06-.94-.94-2.06-.94 2.06-2.06.94zm-11 1L8.5 8.5l.94-2.06 2.06-.94-2.06-.94L8.5 2.5l-.94 2.06-2.06.94zm10 10l.94 2.06.94-2.06 2.06-.94-2.06-.94-.94-2.06-.94 2.06-2.06.94z\"/><path d=\"M17.41 7.96l-1.37-1.37c-.4-.4-.92-.59-1.43-.59-.52 0-1.04.2-1.43.59L10.3 9.45l-7.72 7.72c-.78.78-.78 2.05 0 2.83L4 21.41c.39.39.9.59 1.41.59.51 0 1.02-.2 1.41-.59l7.78-7.78 2.81-2.81c.8-.78.8-2.07 0-2.86zM5.41 20L4 18.59l7.72-7.72 1.47 1.35L5.41 20z\"/>\n",
              "  </svg>\n",
              "      </button>\n",
              "      \n",
              "  <style>\n",
              "    .colab-df-container {\n",
              "      display:flex;\n",
              "      flex-wrap:wrap;\n",
              "      gap: 12px;\n",
              "    }\n",
              "\n",
              "    .colab-df-convert {\n",
              "      background-color: #E8F0FE;\n",
              "      border: none;\n",
              "      border-radius: 50%;\n",
              "      cursor: pointer;\n",
              "      display: none;\n",
              "      fill: #1967D2;\n",
              "      height: 32px;\n",
              "      padding: 0 0 0 0;\n",
              "      width: 32px;\n",
              "    }\n",
              "\n",
              "    .colab-df-convert:hover {\n",
              "      background-color: #E2EBFA;\n",
              "      box-shadow: 0px 1px 2px rgba(60, 64, 67, 0.3), 0px 1px 3px 1px rgba(60, 64, 67, 0.15);\n",
              "      fill: #174EA6;\n",
              "    }\n",
              "\n",
              "    [theme=dark] .colab-df-convert {\n",
              "      background-color: #3B4455;\n",
              "      fill: #D2E3FC;\n",
              "    }\n",
              "\n",
              "    [theme=dark] .colab-df-convert:hover {\n",
              "      background-color: #434B5C;\n",
              "      box-shadow: 0px 1px 3px 1px rgba(0, 0, 0, 0.15);\n",
              "      filter: drop-shadow(0px 1px 2px rgba(0, 0, 0, 0.3));\n",
              "      fill: #FFFFFF;\n",
              "    }\n",
              "  </style>\n",
              "\n",
              "      <script>\n",
              "        const buttonEl =\n",
              "          document.querySelector('#df-6ada5fd4-ce44-49d7-af7c-2921623573f9 button.colab-df-convert');\n",
              "        buttonEl.style.display =\n",
              "          google.colab.kernel.accessAllowed ? 'block' : 'none';\n",
              "\n",
              "        async function convertToInteractive(key) {\n",
              "          const element = document.querySelector('#df-6ada5fd4-ce44-49d7-af7c-2921623573f9');\n",
              "          const dataTable =\n",
              "            await google.colab.kernel.invokeFunction('convertToInteractive',\n",
              "                                                     [key], {});\n",
              "          if (!dataTable) return;\n",
              "\n",
              "          const docLinkHtml = 'Like what you see? Visit the ' +\n",
              "            '<a target=\"_blank\" href=https://colab.research.google.com/notebooks/data_table.ipynb>data table notebook</a>'\n",
              "            + ' to learn more about interactive tables.';\n",
              "          element.innerHTML = '';\n",
              "          dataTable['output_type'] = 'display_data';\n",
              "          await google.colab.output.renderOutput(dataTable, element);\n",
              "          const docLink = document.createElement('div');\n",
              "          docLink.innerHTML = docLinkHtml;\n",
              "          element.appendChild(docLink);\n",
              "        }\n",
              "      </script>\n",
              "    </div>\n",
              "  </div>\n",
              "  "
            ],
            "text/plain": [
              "                        Bogotá    Cali  ...  Villavicencio  Armenia\n",
              "Distancia (kilómetros)                  ...                        \n",
              "Bogotá                     NaN   463.0  ...          110.0    275.0\n",
              "Cali                     461.0     NaN  ...          558.0    187.0\n",
              "Medellín                 419.0   439.0  ...          529.0    280.0\n",
              "Barranquilla            1006.0  1139.0  ...         1117.0    980.0\n",
              "Cartagena               1078.0  1094.0  ...         1188.0    934.0\n",
              "Cúcuta                   596.0   982.0  ...          706.0    789.0\n",
              "Bucaramanga              407.0   783.0  ...          517.0    590.0\n",
              "Pereira                  321.0   216.0  ...          418.0     53.0\n",
              "Santa Marta              966.0  1229.0  ...         1077.0   1035.0\n",
              "Ibagué                   192.0   275.0  ...          288.0     86.0\n",
              "Pasto                    762.0   391.0  ...          859.0    564.0\n",
              "Manizales                314.0   267.0  ...          424.0    108.0\n",
              "Neiva                    300.0   381.0  ...          397.0    289.0\n",
              "Villavicencio            108.0   559.0  ...            NaN    370.0\n",
              "Armenia                  274.0   188.0  ...          371.0      NaN\n",
              "\n",
              "[15 rows x 15 columns]"
            ]
          },
          "metadata": {},
          "execution_count": 71
        }
      ]
    },
    {
      "cell_type": "markdown",
      "source": [
        "# Grafo\n",
        "\n"
      ],
      "metadata": {
        "id": "MW7-tvG5UMbH"
      }
    },
    {
      "cell_type": "markdown",
      "source": [
        "Importamos la librerìa networkx y scipy"
      ],
      "metadata": {
        "id": "xexMlAEKU19g"
      }
    },
    {
      "cell_type": "code",
      "source": [
        "import networkx as nx\n",
        "import scipy as sp"
      ],
      "metadata": {
        "id": "ObbY_K-vU5dP"
      },
      "execution_count": null,
      "outputs": []
    },
    {
      "cell_type": "markdown",
      "source": [
        "Definimos nuestra función que convertirá el tiempo a un valor numérico en minutos."
      ],
      "metadata": {
        "id": "jKtBkj_QU8LR"
      }
    },
    {
      "cell_type": "code",
      "source": [
        "def t_to_d(t):\n",
        "    h, m = t.split(':')\n",
        "    result = int(h) * 60 + int(m)\n",
        "    return result"
      ],
      "metadata": {
        "id": "Ue4VKWTZVDZE"
      },
      "execution_count": null,
      "outputs": []
    },
    {
      "cell_type": "markdown",
      "source": [
        "Creamos el grafo G que será un grafo dirigido"
      ],
      "metadata": {
        "id": "S3R_b0cJVHlw"
      }
    },
    {
      "cell_type": "code",
      "source": [
        "G = nx.DiGraph()"
      ],
      "metadata": {
        "id": "EKOgr7xBUrzq"
      },
      "execution_count": null,
      "outputs": []
    },
    {
      "cell_type": "markdown",
      "source": [
        "Creamos dos arreglos con los vertices tanto para la distancia como para el tiempo."
      ],
      "metadata": {
        "id": "8CAaMfGdVjyo"
      }
    },
    {
      "cell_type": "code",
      "source": [
        "dist_edges = []\n",
        "time_edges = []"
      ],
      "metadata": {
        "id": "exBvClHAVkZ_"
      },
      "execution_count": null,
      "outputs": []
    },
    {
      "cell_type": "markdown",
      "source": [
        "En la variable *cities* guardamos la lista de columnas del dataframe con las distancias, luego, recorremos el arreglo doblemente, ya que los encabezados son iguales tanto para las columnas como para las filas. Dentro de este bucle anidado, añadimos en cada iteración una tupla, siendo i la ciudad de origen, j la ciudad de destino y un objeto conteniendo los valores de distancia para *dist_edges* y tiempo para *time_edges*"
      ],
      "metadata": {
        "id": "kd2Er5QxVn3T"
      }
    },
    {
      "cell_type": "code",
      "source": [
        "cities = list(df_dist.columns)\n",
        "for i in cities:\n",
        "    for j in cities:\n",
        "        if i != j:\n",
        "            dist_edges.append((j, i, {'dist': int(df_dist[i][j])}))\n",
        "            time_edges.append((j, i, {'time': t_to_d(df_time[i][j])}))"
      ],
      "metadata": {
        "id": "q5P_tir-Vo0h"
      },
      "execution_count": null,
      "outputs": []
    },
    {
      "cell_type": "code",
      "source": [
        "time_edges"
      ],
      "metadata": {
        "colab": {
          "base_uri": "https://localhost:8080/"
        },
        "id": "BgfWsIiXubai",
        "outputId": "58856df7-cb27-46ec-f2cc-da5e1018bf32"
      },
      "execution_count": null,
      "outputs": [
        {
          "output_type": "execute_result",
          "data": {
            "text/plain": [
              "[('Cali', 'Bogotá', {'time': 387}),\n",
              " ('Medellín', 'Bogotá', {'time': 343}),\n",
              " ('Barranquilla', 'Bogotá', {'time': 722}),\n",
              " ('Cartagena', 'Bogotá', {'time': 823}),\n",
              " ('Cúcuta', 'Bogotá', {'time': 434}),\n",
              " ('Bucaramanga', 'Bogotá', {'time': 301}),\n",
              " ('Pereira', 'Bogotá', {'time': 284}),\n",
              " ('Santa Marta', 'Bogotá', {'time': 688}),\n",
              " ('Ibagué', 'Bogotá', {'time': 160}),\n",
              " ('Pasto', 'Bogotá', {'time': 662}),\n",
              " ('Manizales', 'Bogotá', {'time': 257}),\n",
              " ('Neiva', 'Bogotá', {'time': 233}),\n",
              " ('Villavicencio', 'Bogotá', {'time': 87}),\n",
              " ('Armenia', 'Bogotá', {'time': 250}),\n",
              " ('Bogotá', 'Cali', {'time': 387}),\n",
              " ('Medellín', 'Cali', {'time': 345}),\n",
              " ('Barranquilla', 'Cali', {'time': 855}),\n",
              " ('Cartagena', 'Cali', {'time': 833}),\n",
              " ('Cúcuta', 'Cali', {'time': 746}),\n",
              " ('Bucaramanga', 'Cali', {'time': 612}),\n",
              " ('Pereira', 'Cali', {'time': 160}),\n",
              " ('Santa Marta', 'Cali', {'time': 907}),\n",
              " ('Ibagué', 'Cali', {'time': 235}),\n",
              " ('Pasto', 'Cali', {'time': 425}),\n",
              " ('Manizales', 'Cali', {'time': 202}),\n",
              " ('Neiva', 'Cali', {'time': 385}),\n",
              " ('Villavicencio', 'Cali', {'time': 461}),\n",
              " ('Armenia', 'Cali', {'time': 144}),\n",
              " ('Bogotá', 'Medellín', {'time': 345}),\n",
              " ('Cali', 'Medellín', {'time': 343}),\n",
              " ('Barranquilla', 'Medellín', {'time': 512}),\n",
              " ('Cartagena', 'Medellín', {'time': 490}),\n",
              " ('Cúcuta', 'Medellín', {'time': 463}),\n",
              " ('Bucaramanga', 'Medellín', {'time': 330}),\n",
              " ('Pereira', 'Medellín', {'time': 189}),\n",
              " ('Santa Marta', 'Medellín', {'time': 577}),\n",
              " ('Ibagué', 'Medellín', {'time': 318}),\n",
              " ('Pasto', 'Medellín', {'time': 757}),\n",
              " ('Manizales', 'Medellín', {'time': 177}),\n",
              " ('Neiva', 'Medellín', {'time': 473}),\n",
              " ('Villavicencio', 'Medellín', {'time': 431}),\n",
              " ('Armenia', 'Medellín', {'time': 229}),\n",
              " ('Bogotá', 'Barranquilla', {'time': 724}),\n",
              " ('Cali', 'Barranquilla', {'time': 863}),\n",
              " ('Medellín', 'Barranquilla', {'time': 521}),\n",
              " ('Cartagena', 'Barranquilla', {'time': 110}),\n",
              " ('Cúcuta', 'Barranquilla', {'time': 531}),\n",
              " ('Bucaramanga', 'Barranquilla', {'time': 476}),\n",
              " ('Pereira', 'Barranquilla', {'time': 710}),\n",
              " ('Santa Marta', 'Barranquilla', {'time': 74}),\n",
              " ('Ibagué', 'Barranquilla', {'time': 713}),\n",
              " ('Pasto', 'Barranquilla', {'time': 1277}),\n",
              " ('Manizales', 'Barranquilla', {'time': 697}),\n",
              " ('Neiva', 'Barranquilla', {'time': 852}),\n",
              " ('Villavicencio', 'Barranquilla', {'time': 809}),\n",
              " ('Armenia', 'Barranquilla', {'time': 750}),\n",
              " ('Bogotá', 'Cartagena', {'time': 814}),\n",
              " ('Cali', 'Cartagena', {'time': 834}),\n",
              " ('Medellín', 'Cartagena', {'time': 492}),\n",
              " ('Barranquilla', 'Cartagena', {'time': 113}),\n",
              " ('Cúcuta', 'Cartagena', {'time': 623}),\n",
              " ('Bucaramanga', 'Cartagena', {'time': 569}),\n",
              " ('Pereira', 'Cartagena', {'time': 680}),\n",
              " ('Santa Marta', 'Cartagena', {'time': 186}),\n",
              " ('Ibagué', 'Cartagena', {'time': 803}),\n",
              " ('Pasto', 'Cartagena', {'time': 1248}),\n",
              " ('Manizales', 'Cartagena', {'time': 668}),\n",
              " ('Neiva', 'Cartagena', {'time': 942}),\n",
              " ('Villavicencio', 'Cartagena', {'time': 900}),\n",
              " ('Armenia', 'Cartagena', {'time': 720}),\n",
              " ('Bogotá', 'Cúcuta', {'time': 438}),\n",
              " ('Cali', 'Cúcuta', {'time': 745}),\n",
              " ('Medellín', 'Cúcuta', {'time': 473}),\n",
              " ('Barranquilla', 'Cúcuta', {'time': 531}),\n",
              " ('Cartagena', 'Cúcuta', {'time': 631}),\n",
              " ('Bucaramanga', 'Cúcuta', {'time': 138}),\n",
              " ('Pereira', 'Cúcuta', {'time': 592}),\n",
              " ('Santa Marta', 'Cúcuta', {'time': 496}),\n",
              " ('Ibagué', 'Cúcuta', {'time': 517}),\n",
              " ('Pasto', 'Cúcuta', {'time': 1086}),\n",
              " ('Manizales', 'Cúcuta', {'time': 549}),\n",
              " ('Neiva', 'Cúcuta', {'time': 656}),\n",
              " ('Villavicencio', 'Cúcuta', {'time': 524}),\n",
              " ('Armenia', 'Cúcuta', {'time': 610}),\n",
              " ('Bogotá', 'Bucaramanga', {'time': 305}),\n",
              " ('Cali', 'Bucaramanga', {'time': 610}),\n",
              " ('Medellín', 'Bucaramanga', {'time': 338}),\n",
              " ('Barranquilla', 'Bucaramanga', {'time': 475}),\n",
              " ('Cartagena', 'Bucaramanga', {'time': 576}),\n",
              " ('Cúcuta', 'Bucaramanga', {'time': 137}),\n",
              " ('Pereira', 'Bucaramanga', {'time': 457}),\n",
              " ('Santa Marta', 'Bucaramanga', {'time': 441}),\n",
              " ('Ibagué', 'Bucaramanga', {'time': 382}),\n",
              " ('Pasto', 'Bucaramanga', {'time': 951}),\n",
              " ('Manizales', 'Bucaramanga', {'time': 414}),\n",
              " ('Neiva', 'Bucaramanga', {'time': 521}),\n",
              " ('Villavicencio', 'Bucaramanga', {'time': 390}),\n",
              " ('Armenia', 'Bucaramanga', {'time': 475}),\n",
              " ('Bogotá', 'Pereira', {'time': 282}),\n",
              " ('Cali', 'Pereira', {'time': 159}),\n",
              " ('Medellín', 'Pereira', {'time': 189}),\n",
              " ('Barranquilla', 'Pereira', {'time': 700}),\n",
              " ('Cartagena', 'Pereira', {'time': 677}),\n",
              " ('Cúcuta', 'Pereira', {'time': 590}),\n",
              " ('Bucaramanga', 'Pereira', {'time': 456}),\n",
              " ('Santa Marta', 'Pereira', {'time': 751}),\n",
              " ('Ibagué', 'Pereira', {'time': 130}),\n",
              " ('Pasto', 'Pereira', {'time': 572}),\n",
              " ('Manizales', 'Pereira', {'time': 46}),\n",
              " ('Neiva', 'Pereira', {'time': 285}),\n",
              " ('Villavicencio', 'Pereira', {'time': 356}),\n",
              " ('Armenia', 'Pereira', {'time': 42}),\n",
              " ('Bogotá', 'Santa Marta', {'time': 690}),\n",
              " ('Cali', 'Santa Marta', {'time': 907}),\n",
              " ('Medellín', 'Santa Marta', {'time': 586}),\n",
              " ('Barranquilla', 'Santa Marta', {'time': 75}),\n",
              " ('Cartagena', 'Santa Marta', {'time': 184}),\n",
              " ('Cúcuta', 'Santa Marta', {'time': 497}),\n",
              " ('Bucaramanga', 'Santa Marta', {'time': 442}),\n",
              " ('Pereira', 'Santa Marta', {'time': 753}),\n",
              " ('Ibagué', 'Santa Marta', {'time': 679}),\n",
              " ('Pasto', 'Santa Marta', {'time': 1247}),\n",
              " ('Manizales', 'Santa Marta', {'time': 710}),\n",
              " ('Neiva', 'Santa Marta', {'time': 818}),\n",
              " ('Villavicencio', 'Santa Marta', {'time': 775}),\n",
              " ('Armenia', 'Santa Marta', {'time': 771}),\n",
              " ('Bogotá', 'Ibagué', {'time': 159}),\n",
              " ('Cali', 'Ibagué', {'time': 234}),\n",
              " ('Medellín', 'Ibagué', {'time': 319}),\n",
              " ('Barranquilla', 'Ibagué', {'time': 713}),\n",
              " ('Cartagena', 'Ibagué', {'time': 807}),\n",
              " ('Cúcuta', 'Ibagué', {'time': 517}),\n",
              " ('Bucaramanga', 'Ibagué', {'time': 384}),\n",
              " ('Pereira', 'Ibagué', {'time': 131}),\n",
              " ('Santa Marta', 'Ibagué', {'time': 678}),\n",
              " ('Pasto', 'Ibagué', {'time': 591}),\n",
              " ('Manizales', 'Ibagué', {'time': 175}),\n",
              " ('Neiva', 'Ibagué', {'time': 162}),\n",
              " ('Villavicencio', 'Ibagué', {'time': 233}),\n",
              " ('Armenia', 'Ibagué', {'time': 96}),\n",
              " ('Bogotá', 'Pasto', {'time': 662}),\n",
              " ('Cali', 'Pasto', {'time': 426}),\n",
              " ('Medellín', 'Pasto', {'time': 758}),\n",
              " ('Barranquilla', 'Pasto', {'time': 1269}),\n",
              " ('Cartagena', 'Pasto', {'time': 1246}),\n",
              " ('Cúcuta', 'Pasto', {'time': 1087}),\n",
              " ('Bucaramanga', 'Pasto', {'time': 953}),\n",
              " ('Pereira', 'Pasto', {'time': 573}),\n",
              " ('Santa Marta', 'Pasto', {'time': 1248}),\n",
              " ('Ibagué', 'Pasto', {'time': 591}),\n",
              " ('Manizales', 'Pasto', {'time': 615}),\n",
              " ('Neiva', 'Pasto', {'time': 435}),\n",
              " ('Villavicencio', 'Pasto', {'time': 736}),\n",
              " ('Armenia', 'Pasto', {'time': 557}),\n",
              " ('Bogotá', 'Manizales', {'time': 258}),\n",
              " ('Cali', 'Manizales', {'time': 200}),\n",
              " ('Medellín', 'Manizales', {'time': 177}),\n",
              " ('Barranquilla', 'Manizales', {'time': 688}),\n",
              " ('Cartagena', 'Manizales', {'time': 665}),\n",
              " ('Cúcuta', 'Manizales', {'time': 548}),\n",
              " ('Bucaramanga', 'Manizales', {'time': 414}),\n",
              " ('Pereira', 'Manizales', {'time': 47}),\n",
              " ('Santa Marta', 'Manizales', {'time': 709}),\n",
              " ('Ibagué', 'Manizales', {'time': 175}),\n",
              " ('Pasto', 'Manizales', {'time': 614}),\n",
              " ('Neiva', 'Manizales', {'time': 330}),\n",
              " ('Villavicencio', 'Manizales', {'time': 344}),\n",
              " ('Armenia', 'Manizales', {'time': 87}),\n",
              " ('Bogotá', 'Neiva', {'time': 229}),\n",
              " ('Cali', 'Neiva', {'time': 385}),\n",
              " ('Medellín', 'Neiva', {'time': 470}),\n",
              " ('Barranquilla', 'Neiva', {'time': 849}),\n",
              " ('Cartagena', 'Neiva', {'time': 950}),\n",
              " ('Cúcuta', 'Neiva', {'time': 654}),\n",
              " ('Bucaramanga', 'Neiva', {'time': 520}),\n",
              " ('Pereira', 'Neiva', {'time': 283}),\n",
              " ('Santa Marta', 'Neiva', {'time': 815}),\n",
              " ('Ibagué', 'Neiva', {'time': 158}),\n",
              " ('Pasto', 'Neiva', {'time': 431}),\n",
              " ('Manizales', 'Neiva', {'time': 327}),\n",
              " ('Villavicencio', 'Neiva', {'time': 303}),\n",
              " ('Armenia', 'Neiva', {'time': 248}),\n",
              " ('Bogotá', 'Villavicencio', {'time': 88}),\n",
              " ('Cali', 'Villavicencio', {'time': 461}),\n",
              " ('Medellín', 'Villavicencio', {'time': 431}),\n",
              " ('Barranquilla', 'Villavicencio', {'time': 810}),\n",
              " ('Cartagena', 'Villavicencio', {'time': 911}),\n",
              " ('Cúcuta', 'Villavicencio', {'time': 522}),\n",
              " ('Bucaramanga', 'Villavicencio', {'time': 389}),\n",
              " ('Pereira', 'Villavicencio', {'time': 358}),\n",
              " ('Santa Marta', 'Villavicencio', {'time': 776}),\n",
              " ('Ibagué', 'Villavicencio', {'time': 233}),\n",
              " ('Pasto', 'Villavicencio', {'time': 735}),\n",
              " ('Manizales', 'Villavicencio', {'time': 345}),\n",
              " ('Neiva', 'Villavicencio', {'time': 306}),\n",
              " ('Armenia', 'Villavicencio', {'time': 323}),\n",
              " ('Bogotá', 'Armenia', {'time': 248}),\n",
              " ('Cali', 'Armenia', {'time': 142}),\n",
              " ('Medellín', 'Armenia', {'time': 229}),\n",
              " ('Barranquilla', 'Armenia', {'time': 740}),\n",
              " ('Cartagena', 'Armenia', {'time': 717}),\n",
              " ('Cúcuta', 'Armenia', {'time': 611}),\n",
              " ('Bucaramanga', 'Armenia', {'time': 477}),\n",
              " ('Pereira', 'Armenia', {'time': 42}),\n",
              " ('Santa Marta', 'Armenia', {'time': 772}),\n",
              " ('Ibagué', 'Armenia', {'time': 96}),\n",
              " ('Pasto', 'Armenia', {'time': 556}),\n",
              " ('Manizales', 'Armenia', {'time': 86}),\n",
              " ('Neiva', 'Armenia', {'time': 251}),\n",
              " ('Villavicencio', 'Armenia', {'time': 322})]"
            ]
          },
          "metadata": {},
          "execution_count": 77
        }
      ]
    },
    {
      "cell_type": "markdown",
      "source": [
        "Una vez tenemos los arreglos con las distancias y los tiempos, procedemos a añadir los vertices al grafo, lo que nos dará el grafo en cuestión."
      ],
      "metadata": {
        "id": "rfFOpJ-tWvzN"
      }
    },
    {
      "cell_type": "code",
      "source": [
        "G.add_edges_from(dist_edges)\n",
        "G.add_edges_from(time_edges)"
      ],
      "metadata": {
        "id": "bjzj9GS0wVh8"
      },
      "execution_count": null,
      "outputs": []
    },
    {
      "cell_type": "code",
      "source": [
        "import matplotlib.pyplot as plt\n",
        "\n",
        "plot = nx.spring_layout(G)\n",
        "\n",
        "nx.draw_networkx(G,plot,node_size=30, font_size=10)\n",
        "labels = nx.get_edge_attributes(G,'time')\n",
        "nx.draw_networkx_edge_labels(G,plot,edge_labels=labels, font_size=7)\n",
        "plt.show()"
      ],
      "metadata": {
        "colab": {
          "base_uri": "https://localhost:8080/",
          "height": 248
        },
        "id": "Jzikx4idWwLQ",
        "outputId": "16bd3941-393f-4e32-b71c-1411d7065930"
      },
      "execution_count": null,
      "outputs": [
        {
          "output_type": "display_data",
          "data": {
            "image/png": "[encoded data removed]",
            "text/plain": [
              "<Figure size 432x288 with 1 Axes>"
            ]
          },
          "metadata": {}
        }
      ]
    },
    {
      "cell_type": "markdown",
      "source": [
        "Y para la distancia"
      ],
      "metadata": {
        "id": "gCB1DW1Nj6qo"
      }
    },
    {
      "cell_type": "code",
      "source": [
        "plot = nx.spring_layout(G)\n",
        "\n",
        "nx.draw_networkx(G,plot,node_size=10, font_size=10)\n",
        "labels = nx.get_edge_attributes(G,'dist')\n",
        "nx.draw_networkx_edge_labels(G,plot,edge_labels=labels, font_size=7)\n",
        "plt.show()"
      ],
      "metadata": {
        "colab": {
          "base_uri": "https://localhost:8080/",
          "height": 248
        },
        "id": "ebROMF9pj6Kf",
        "outputId": "37f4196d-299d-4bd2-f3bf-04ffea498986"
      },
      "execution_count": null,
      "outputs": [
        {
          "output_type": "display_data",
          "data": {
            "image/png": "[encoded data removed]",
            "text/plain": [
              "<Figure size 432x288 with 1 Axes>"
            ]
          },
          "metadata": {}
        }
      ]
    },
    {
      "cell_type": "markdown",
      "source": [
        "Una vez el grafo ha sido generado, podemos comprobar su matriz de adyacencia como en el CSV."
      ],
      "metadata": {
        "id": "i_yUUG93XidM"
      }
    },
    {
      "cell_type": "code",
      "source": [
        "A = nx.adjacency_matrix(G)\n",
        "A.todense()"
      ],
      "metadata": {
        "colab": {
          "base_uri": "https://localhost:8080/"
        },
        "id": "V4kq_ydsXqPx",
        "outputId": "1825c5d3-1a51-4b4f-c471-b49939ef4286"
      },
      "execution_count": null,
      "outputs": [
        {
          "output_type": "execute_result",
          "data": {
            "text/plain": [
              "matrix([[0, 1, 1, 1, 1, 1, 1, 1, 1, 1, 1, 1, 1, 1, 1],\n",
              "        [1, 0, 1, 1, 1, 1, 1, 1, 1, 1, 1, 1, 1, 1, 1],\n",
              "        [1, 1, 0, 1, 1, 1, 1, 1, 1, 1, 1, 1, 1, 1, 1],\n",
              "        [1, 1, 1, 0, 1, 1, 1, 1, 1, 1, 1, 1, 1, 1, 1],\n",
              "        [1, 1, 1, 1, 0, 1, 1, 1, 1, 1, 1, 1, 1, 1, 1],\n",
              "        [1, 1, 1, 1, 1, 0, 1, 1, 1, 1, 1, 1, 1, 1, 1],\n",
              "        [1, 1, 1, 1, 1, 1, 0, 1, 1, 1, 1, 1, 1, 1, 1],\n",
              "        [1, 1, 1, 1, 1, 1, 1, 0, 1, 1, 1, 1, 1, 1, 1],\n",
              "        [1, 1, 1, 1, 1, 1, 1, 1, 0, 1, 1, 1, 1, 1, 1],\n",
              "        [1, 1, 1, 1, 1, 1, 1, 1, 1, 0, 1, 1, 1, 1, 1],\n",
              "        [1, 1, 1, 1, 1, 1, 1, 1, 1, 1, 0, 1, 1, 1, 1],\n",
              "        [1, 1, 1, 1, 1, 1, 1, 1, 1, 1, 1, 0, 1, 1, 1],\n",
              "        [1, 1, 1, 1, 1, 1, 1, 1, 1, 1, 1, 1, 0, 1, 1],\n",
              "        [1, 1, 1, 1, 1, 1, 1, 1, 1, 1, 1, 1, 1, 0, 1],\n",
              "        [1, 1, 1, 1, 1, 1, 1, 1, 1, 1, 1, 1, 1, 1, 0]], dtype=int64)"
            ]
          },
          "metadata": {},
          "execution_count": 81
        }
      ]
    },
    {
      "cell_type": "markdown",
      "source": [
        "Asimismo podemos ver cuál es el recorrido de este grafo."
      ],
      "metadata": {
        "id": "WErC5xYQaRdx"
      }
    },
    {
      "cell_type": "code",
      "source": [
        "g = nx.path_graph(G, create_using=nx.DiGraph())\n",
        "nx.draw(g, with_labels = True)"
      ],
      "metadata": {
        "colab": {
          "base_uri": "https://localhost:8080/",
          "height": 319
        },
        "id": "gsLI5mpPXi21",
        "outputId": "3e5b8a23-54c5-4645-febc-3cbd526c411c"
      },
      "execution_count": null,
      "outputs": [
        {
          "output_type": "display_data",
          "data": {
            "image/png": "[encoded data removed]",
            "text/plain": [
              "<Figure size 432x288 with 1 Axes>"
            ]
          },
          "metadata": {}
        }
      ]
    },
    {
      "cell_type": "markdown",
      "source": [
        "# Algoritmo de optimización"
      ],
      "metadata": {
        "id": "MzqrVZTJaoYv"
      }
    },
    {
      "cell_type": "markdown",
      "source": [
        "Usaremos Dijkstra en nuestra implementación."
      ],
      "metadata": {
        "id": "f5jBxG6Qa90p"
      }
    },
    {
      "cell_type": "code",
      "source": [
        "#st = nodo inicio\n",
        "#end = nodo final\n",
        "#mode = 'dist' o 'time'\n",
        "#method = 'dijkstra' o ‘bellman-ford'\n",
        "def nx_algorithms(st, end, mode, method):\n",
        "    if mode == 'dist' or mode == 'time':\n",
        "        if i_l.index(st) and i_l.index(end):\n",
        "            time1 = time.time()\n",
        "            path = nx.shortest_path(G, source=st, target=end, weight=mode, method=method)\n",
        "            time2 = time.time()-time1  \n",
        "\n",
        "            data = 0\n",
        "            if len(path) < 3:\n",
        "                data = G.get_edge_data(i_l[0], i_l[1])[mode]\n",
        "                \n",
        "            else:\n",
        "                for i in range(0, len(path)-1):\n",
        "                    data += G.get_edge_data(i_l[i], i_l[i+1])[mode]\n",
        "\n",
        "            if mode == 'time':\n",
        "                m = str(data%60)\n",
        "                h = str(int(data/60))\n",
        "                data = h+\":\"+m\n",
        "\n",
        "            return (path, data, time2)"
      ],
      "metadata": {
        "id": "2EmUHxuvotqf"
      },
      "execution_count": null,
      "outputs": []
    },
    {
      "cell_type": "markdown",
      "source": [
        "El camino más corto desde Barranquilla a todos los otros puntos."
      ],
      "metadata": {
        "id": "48PgSEjZwuKU"
      }
    },
    {
      "cell_type": "code",
      "source": [
        "path = nx.shortest_path(G, source=\"Barranquilla\", weight=\"dist\", )\n",
        "path"
      ],
      "metadata": {
        "colab": {
          "base_uri": "https://localhost:8080/"
        },
        "id": "NKoXnHYZdKs8",
        "outputId": "7da803d1-ec8b-488d-8704-0099c816d9f7"
      },
      "execution_count": null,
      "outputs": [
        {
          "output_type": "execute_result",
          "data": {
            "text/plain": [
              "{'Armenia': ['Barranquilla', 'Pereira', 'Armenia'],\n",
              " 'Barranquilla': ['Barranquilla'],\n",
              " 'Bogotá': ['Barranquilla', 'Bogotá'],\n",
              " 'Bucaramanga': ['Barranquilla', 'Bucaramanga'],\n",
              " 'Cali': ['Barranquilla', 'Cali'],\n",
              " 'Cartagena': ['Barranquilla', 'Cartagena'],\n",
              " 'Cúcuta': ['Barranquilla', 'Cúcuta'],\n",
              " 'Ibagué': ['Barranquilla', 'Ibagué'],\n",
              " 'Manizales': ['Barranquilla', 'Manizales'],\n",
              " 'Medellín': ['Barranquilla', 'Medellín'],\n",
              " 'Neiva': ['Barranquilla', 'Neiva'],\n",
              " 'Pasto': ['Barranquilla', 'Pasto'],\n",
              " 'Pereira': ['Barranquilla', 'Pereira'],\n",
              " 'Santa Marta': ['Barranquilla', 'Santa Marta'],\n",
              " 'Villavicencio': ['Barranquilla', 'Bogotá', 'Villavicencio']}"
            ]
          },
          "metadata": {},
          "execution_count": 84
        }
      ]
    },
    {
      "cell_type": "markdown",
      "source": [
        "Algoritmo Dijkstra implementado por NetworkX para el problema Bucaramanga -> Pasto"
      ],
      "metadata": {
        "id": "OB5CCqFhyLS7"
      }
    },
    {
      "cell_type": "code",
      "source": [
        "p, d, t_nxd_d = nx_algorithms('Bucaramanga', 'Pasto', 'dist', 'dijkstra')\n",
        "print('Path: ', p, 'Distancia: ', d, 'Tiempo ejecución: ', t_nxd_d)\n",
        "p, d, t_nxd_t = nx_algorithms('Bucaramanga', 'Pasto', 'time', 'dijkstra')\n",
        "print('Path: ', p, 'Distancia: ', d, 'Tiempo ejecución: ', t_nxd_t)\n",
        "\n",
        "#El resultado tiene un formato 'path, data(tiempo o distancia), tiempo de ejecución'"
      ],
      "metadata": {
        "colab": {
          "base_uri": "https://localhost:8080/"
        },
        "id": "K-TumyaDyUt-",
        "outputId": "50af1014-ce2e-4889-882c-c732f22b046a"
      },
      "execution_count": null,
      "outputs": [
        {
          "output_type": "stream",
          "name": "stdout",
          "text": [
            "Path:  ['Bucaramanga', 'Pasto'] Distancia:  463 Tiempo ejecución:  0.0002758502960205078\n",
            "Path:  ['Bucaramanga', 'Pasto'] Distancia:  6:27 Tiempo ejecución:  0.00034308433532714844\n"
          ]
        }
      ]
    },
    {
      "cell_type": "markdown",
      "source": [
        "Ahora usaremos el algoritmo bellman ford implementado en networkx"
      ],
      "metadata": {
        "id": "qt5ggkWkv5e0"
      }
    },
    {
      "cell_type": "code",
      "source": [
        "p, d, t_nxb_d =nx_algorithms('Bucaramanga', 'Pasto', 'dist', 'bellman-ford')\n",
        "print('Distancia: ', d)\n",
        "p, d, t_nxd_t =nx_algorithms('Bucaramanga', 'Pasto', 'time', 'bellman-ford')\n",
        "print('Tiempo: ', t)"
      ],
      "metadata": {
        "id": "IRcmNdmiwGWM"
      },
      "execution_count": null,
      "outputs": []
    },
    {
      "cell_type": "markdown",
      "source": [
        "Y para el tiempo"
      ],
      "metadata": {
        "id": "CJI1y23Yydzd"
      }
    },
    {
      "cell_type": "code",
      "source": [
        "path = nx.shortest_path(G, source=\"Bucaramanga\", target=\"Pasto\", weight=\"time\")\n",
        "path"
      ],
      "metadata": {
        "id": "1GbtjCVYyfot",
        "colab": {
          "base_uri": "https://localhost:8080/"
        },
        "outputId": "48717b9e-f15b-41c9-d93d-2f59aba8fcb0"
      },
      "execution_count": 23,
      "outputs": [
        {
          "output_type": "execute_result",
          "data": {
            "text/plain": [
              "['Bucaramanga', 'Pasto']"
            ]
          },
          "metadata": {},
          "execution_count": 23
        }
      ]
    },
    {
      "cell_type": "markdown",
      "source": [
        "Implementación del código usando la librería nx y una implementación de Dijkstra."
      ],
      "metadata": {
        "id": "AzggsxDBw6jh"
      }
    },
    {
      "cell_type": "code",
      "source": [
        "from math import inf\n",
        "from queue import PriorityQueue\n",
        "import time\n",
        "\n",
        "def nx_dijkstra(graph: 'nx.classes.graph.Graph', start: str, end: str, mode: str) -> 'List':\n",
        "    current_time = time.time()\n",
        "    def goingBack(prev, start, end): #O(n)\n",
        "        node = end\n",
        "        path = []\n",
        "        while node != start:\n",
        "            path.append(node)\n",
        "            node = prev[node]\n",
        "        path.append(node) \n",
        "        path.reverse()\n",
        "        return path\n",
        "        \n",
        "    #Get the weight of the vertex\n",
        "    def weight(u, v):\n",
        "        return graph.get_edge_data(u,v).get(mode)\n",
        "        \n",
        "    # What is the predecessor of the current node\n",
        "    prev = {}\n",
        "\n",
        "    # Initialize an array with infinity to all other nodes in graph\n",
        "    dist = {v: inf for v in list(nx.nodes(graph))}\n",
        "\n",
        "    # nodes we've visited\n",
        "    visited = set()\n",
        "\n",
        "    #Prioritize the next adjacent nodes with the shortest distance\n",
        "    pq = PriorityQueue()  \n",
        "    \n",
        "    #Distance from one node to itself is zero\n",
        "    dist[start] = 0\n",
        "\n",
        "    #First distance in queue\n",
        "    pq.put((dist[start], start))\n",
        "    \n",
        "    #We start looping until queue is empty\n",
        "    while 0 != pq.qsize():\n",
        "        curr_weight, curr = pq.get()\n",
        "        visited.add(curr)\n",
        "        print(f'visiting {curr}')\n",
        "        print(f'distance {curr_weight}')\n",
        "        # look at curr's adjacent nodes\n",
        "        for neighbor in dict(graph.adjacency()).get(curr):\n",
        "            # if we found a shorter path \n",
        "            path = dist[curr] + weight(curr, neighbor)\n",
        "            if path < dist[neighbor]:\n",
        "                # Update the distance as we found a shorter one\n",
        "                dist[neighbor] = path\n",
        "                # Update the previous node to be the current one\n",
        "                prev[neighbor] = curr\n",
        "                # If next neighbor has not been visited\n",
        "                if neighbor not in visited:\n",
        "                    # Insert into pq and mark as visited\n",
        "                    visited.add(neighbor)\n",
        "                    pq.put((dist[neighbor],neighbor))\n",
        "                # Otherwise, update the value in the pq\n",
        "                else:\n",
        "                    # Remove old neighbor\n",
        "                    _ = pq.get((dist[neighbor],neighbor))\n",
        "                    # Insert new neighbor\n",
        "                    pq.put((dist[neighbor],neighbor))\n",
        "    print(time.time()-current_time)            \n",
        "    return goingBack(prev, start, end), dist[end]\n",
        "\n"
      ],
      "metadata": {
        "id": "O98iSY7BavrL"
      },
      "execution_count": 21,
      "outputs": []
    },
    {
      "cell_type": "markdown",
      "source": [
        "Así, para el tiempo:"
      ],
      "metadata": {
        "id": "vq49zWUBb-vM"
      }
    },
    {
      "cell_type": "code",
      "source": [
        "path = nx_dijkstra(G, \"Bucaramanga\", \"Pasto\", \"time\")\n",
        "path"
      ],
      "metadata": {
        "id": "juncmAgscrzt",
        "colab": {
          "base_uri": "https://localhost:8080/"
        },
        "outputId": "dedf030f-ca35-489e-f96a-a345ee889fbe"
      },
      "execution_count": 22,
      "outputs": [
        {
          "output_type": "stream",
          "name": "stdout",
          "text": [
            "visiting Bucaramanga\n",
            "distance 0\n",
            "visiting Cúcuta\n",
            "distance 137\n",
            "visiting Bogotá\n",
            "distance 305\n",
            "visiting Medellín\n",
            "distance 338\n",
            "visiting Ibagué\n",
            "distance 382\n",
            "visiting Villavicencio\n",
            "distance 390\n",
            "visiting Manizales\n",
            "distance 414\n",
            "visiting Santa Marta\n",
            "distance 441\n",
            "visiting Pereira\n",
            "distance 457\n",
            "visiting Armenia\n",
            "distance 475\n",
            "visiting Barranquilla\n",
            "distance 475\n",
            "visiting Neiva\n",
            "distance 521\n",
            "visiting Cartagena\n",
            "distance 576\n",
            "visiting Cali\n",
            "distance 610\n",
            "visiting Pasto\n",
            "distance 951\n",
            "0.0008118152618408203\n"
          ]
        },
        {
          "output_type": "execute_result",
          "data": {
            "text/plain": [
              "(['Bucaramanga', 'Pasto'], 951)"
            ]
          },
          "metadata": {},
          "execution_count": 22
        }
      ]
    },
    {
      "cell_type": "markdown",
      "source": [
        "Y para la distancia:"
      ],
      "metadata": {
        "id": "LKowti9ZlIqL"
      }
    },
    {
      "cell_type": "code",
      "source": [
        "path = nx_dijkstra(G, \"Bucaramanga\", \"Pasto\", \"dist\")\n",
        "path"
      ],
      "metadata": {
        "id": "jfP4xcEilEH5"
      },
      "execution_count": null,
      "outputs": []
    },
    {
      "cell_type": "markdown",
      "source": [
        "# Tiempos de ejecución"
      ],
      "metadata": {
        "id": "4BQdgJ0ClDvz"
      }
    },
    {
      "cell_type": "markdown",
      "source": [
        ""
      ],
      "metadata": {
        "id": "fAzVvt-XxFl2"
      }
    },
    {
      "cell_type": "markdown",
      "source": [
        ""
      ],
      "metadata": {
        "id": "6X2xyy7WXph7"
      }
    }
  ]
}